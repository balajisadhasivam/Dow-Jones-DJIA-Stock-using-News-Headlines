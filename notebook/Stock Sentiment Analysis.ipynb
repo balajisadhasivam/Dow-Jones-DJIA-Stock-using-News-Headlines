{
 "cells": [
  {
   "cell_type": "code",
   "execution_count": 2,
   "metadata": {
    "colab": {},
    "colab_type": "code",
    "id": "1vvowgFiFDSw"
   },
   "outputs": [
    {
     "ename": "ModuleNotFoundError",
     "evalue": "No module named 'numpy'",
     "output_type": "error",
     "traceback": [
      "\u001b[1;31m---------------------------------------------------------------------------\u001b[0m",
      "\u001b[1;31mModuleNotFoundError\u001b[0m                       Traceback (most recent call last)",
      "\u001b[1;32md:\\Projects\\Sentiment Analysis\\Stock Sentiment Analysis.ipynb Cell 1\u001b[0m line \u001b[0;36m2\n\u001b[0;32m      <a href='vscode-notebook-cell:/d%3A/Projects/Sentiment%20Analysis/Stock%20Sentiment%20Analysis.ipynb#W0sZmlsZQ%3D%3D?line=0'>1</a>\u001b[0m \u001b[39m# Importing essential libraries\u001b[39;00m\n\u001b[1;32m----> <a href='vscode-notebook-cell:/d%3A/Projects/Sentiment%20Analysis/Stock%20Sentiment%20Analysis.ipynb#W0sZmlsZQ%3D%3D?line=1'>2</a>\u001b[0m \u001b[39mimport\u001b[39;00m \u001b[39mnumpy\u001b[39;00m \u001b[39mas\u001b[39;00m \u001b[39mnp\u001b[39;00m\n\u001b[0;32m      <a href='vscode-notebook-cell:/d%3A/Projects/Sentiment%20Analysis/Stock%20Sentiment%20Analysis.ipynb#W0sZmlsZQ%3D%3D?line=2'>3</a>\u001b[0m \u001b[39mimport\u001b[39;00m \u001b[39mpandas\u001b[39;00m \u001b[39mas\u001b[39;00m \u001b[39mpd\u001b[39;00m\n",
      "\u001b[1;31mModuleNotFoundError\u001b[0m: No module named 'numpy'"
     ]
    }
   ],
   "source": [
    "# Importing essential libraries\n",
    "import numpy as np\n",
    "import pandas as pd"
   ]
  },
  {
   "cell_type": "code",
   "execution_count": null,
   "metadata": {
    "colab": {},
    "colab_type": "code",
    "id": "osxCkBCdFUGw"
   },
   "outputs": [],
   "source": [
    "# Loading the dataset\n",
    "df = pd.read_csv('D:\\Projects\\Sentiment Analysis\\dataset\\Stock Headlines.csv', encoding = 'ISO-8859-1')"
   ]
  },
  {
   "cell_type": "markdown",
   "metadata": {
    "colab_type": "text",
    "id": "5DAJPl26Am0B"
   },
   "source": [
    "# **Exploring the dataset**"
   ]
  },
  {
   "cell_type": "code",
   "execution_count": null,
   "metadata": {
    "colab": {
     "base_uri": "https://localhost:8080/",
     "height": 105
    },
    "colab_type": "code",
    "id": "FH2rM0eMFpdD",
    "outputId": "348c6fc7-635c-4214-d00b-23a94046a1a4"
   },
   "outputs": [],
   "source": [
    "df.columns"
   ]
  },
  {
   "cell_type": "code",
   "execution_count": null,
   "metadata": {
    "colab": {
     "base_uri": "https://localhost:8080/",
     "height": 34
    },
    "colab_type": "code",
    "id": "Lo08VgVxF5GS",
    "outputId": "df0db46b-a60c-4c7a-dc8a-858132d84aac"
   },
   "outputs": [],
   "source": [
    "df.shape"
   ]
  },
  {
   "cell_type": "code",
   "execution_count": null,
   "metadata": {
    "colab": {
     "base_uri": "https://localhost:8080/",
     "height": 491
    },
    "colab_type": "code",
    "id": "J7RvKfrTBqo5",
    "outputId": "61cd42b7-5eea-4b98-eecf-14ccf5beadc9"
   },
   "outputs": [],
   "source": [
    "df.head(3)"
   ]
  },
  {
   "cell_type": "markdown",
   "metadata": {
    "colab_type": "text",
    "id": "gFZh_ONwCsFT"
   },
   "source": [
    "*Note: Here 'Label' is a binary attribute which consists 0 - Stock \n",
    "price goes down or stays the same, 1 - Stock price goes up.*"
   ]
  },
  {
   "cell_type": "code",
   "execution_count": null,
   "metadata": {
    "colab": {},
    "colab_type": "code",
    "id": "0IWzslypBqmW"
   },
   "outputs": [],
   "source": [
    "# Importing essential libraries for visualization\n",
    "import matplotlib.pyplot as plt\n",
    "import seaborn as sns\n",
    "%matplotlib inline"
   ]
  },
  {
   "cell_type": "code",
   "execution_count": null,
   "metadata": {
    "colab": {
     "base_uri": "https://localhost:8080/",
     "height": 496
    },
    "colab_type": "code",
    "id": "Dxiv0CcxBqjI",
    "outputId": "a26516ad-2148-4cfb-86da-389e3cfb461c"
   },
   "outputs": [],
   "source": [
    "# Visualizing the count of 'Label' column from the dataset\n",
    "plt.figure(figsize=(8,8))\n",
    "sns.countplot(x='Label', data=df)\n",
    "plt.xlabel('Stock Sentiments (0-Down/Same, 1-Up)')\n",
    "plt.ylabel('Count')\n",
    "plt.show()"
   ]
  },
  {
   "cell_type": "markdown",
   "metadata": {
    "colab_type": "text",
    "id": "NWBuNTqxJuRp"
   },
   "source": [
    "# **Data Cleaning and Preprocessing**"
   ]
  },
  {
   "cell_type": "code",
   "execution_count": null,
   "metadata": {
    "colab": {
     "base_uri": "https://localhost:8080/",
     "height": 34
    },
    "colab_type": "code",
    "id": "ABgH-wfdO9EN",
    "outputId": "4055ad69-f852-46c1-da85-b497cc105525"
   },
   "outputs": [],
   "source": [
    "print(df.shape)"
   ]
  },
  {
   "cell_type": "code",
   "execution_count": null,
   "metadata": {
    "colab": {
     "base_uri": "https://localhost:8080/",
     "height": 514
    },
    "colab_type": "code",
    "id": "nF_JZIWrO6xO",
    "outputId": "17b72278-baf1-4366-a3e5-82985990614c"
   },
   "outputs": [],
   "source": [
    "# Finding any NaN values\n",
    "df.isna().any()"
   ]
  },
  {
   "cell_type": "code",
   "execution_count": null,
   "metadata": {
    "colab": {
     "base_uri": "https://localhost:8080/",
     "height": 34
    },
    "colab_type": "code",
    "id": "u6aQAfSPPBpd",
    "outputId": "9609e9ac-fc66-485e-90db-46cc00822d8b"
   },
   "outputs": [],
   "source": [
    "# Dropping NaN values\n",
    "df.dropna(inplace=True)\n",
    "print(df.shape)"
   ]
  },
  {
   "cell_type": "code",
   "execution_count": null,
   "metadata": {
    "colab": {},
    "colab_type": "code",
    "id": "XbhXg-iHPN-X"
   },
   "outputs": [],
   "source": [
    "df_copy = df.copy()"
   ]
  },
  {
   "cell_type": "code",
   "execution_count": null,
   "metadata": {
    "colab": {},
    "colab_type": "code",
    "id": "d6DnrYCGPLOI"
   },
   "outputs": [],
   "source": [
    "df_copy.reset_index(inplace=True)"
   ]
  },
  {
   "cell_type": "code",
   "execution_count": null,
   "metadata": {
    "colab": {
     "base_uri": "https://localhost:8080/",
     "height": 34
    },
    "colab_type": "code",
    "id": "MMNzajXxMkdh",
    "outputId": "fa4057f0-c7ce-4c12-aba0-ed92e79d3747"
   },
   "outputs": [],
   "source": [
    "# Splitting the dataset into train an test set\n",
    "train = df_copy[df_copy['Date'] < '20150101']\n",
    "test = df_copy[df_copy['Date'] > '20141231']\n",
    "print('Train size: {}, Test size: {}'.format(train.shape, test.shape))"
   ]
  },
  {
   "cell_type": "code",
   "execution_count": null,
   "metadata": {
    "colab": {
     "base_uri": "https://localhost:8080/",
     "height": 105
    },
    "colab_type": "code",
    "id": "bVChdUOOQGd5",
    "outputId": "8ac15149-8d67-4455-842d-ddc2bf5598cd"
   },
   "outputs": [],
   "source": [
    "train.columns"
   ]
  },
  {
   "cell_type": "code",
   "execution_count": null,
   "metadata": {
    "colab": {},
    "colab_type": "code",
    "id": "37hwWUT8OoDI"
   },
   "outputs": [],
   "source": [
    "# Splitting the dataset\n",
    "y_train = train['Label']\n",
    "train = train.iloc[:, 3:28]\n",
    "y_test = test['Label']\n",
    "test = test.iloc[:, 3:28]"
   ]
  },
  {
   "cell_type": "code",
   "execution_count": null,
   "metadata": {
    "colab": {
     "base_uri": "https://localhost:8080/",
     "height": 52
    },
    "colab_type": "code",
    "id": "i8Vsv35IQby-",
    "outputId": "905c35a5-19f3-4a74-bf35-1f07825eaf2c"
   },
   "outputs": [],
   "source": [
    "# Importing essential libraries for performing Natural Language Processing on given dataset\n",
    "import nltk\n",
    "nltk.download('stopwords')\n",
    "from nltk.corpus import stopwords\n",
    "from nltk.stem import PorterStemmer"
   ]
  },
  {
   "cell_type": "code",
   "execution_count": null,
   "metadata": {
    "colab": {},
    "colab_type": "code",
    "id": "VD4zrtcRRBXH"
   },
   "outputs": [],
   "source": [
    "# Removing punctuation and special character from the text\n",
    "train.replace(to_replace='[^a-zA-Z]', value=' ', regex=True, inplace=True)\n",
    "test.replace(to_replace='[^a-zA-Z]', value=' ', regex=True, inplace=True)"
   ]
  },
  {
   "cell_type": "code",
   "execution_count": null,
   "metadata": {
    "colab": {},
    "colab_type": "code",
    "id": "CBcNS6YOSHW-"
   },
   "outputs": [],
   "source": [
    "# Renaming columns\n",
    "new_columns = [str(i) for i in range(0,25)]\n",
    "train.columns = new_columns\n",
    "test.columns = new_columns"
   ]
  },
  {
   "cell_type": "code",
   "execution_count": null,
   "metadata": {
    "colab": {},
    "colab_type": "code",
    "id": "s_Rv1U-5TQdm"
   },
   "outputs": [],
   "source": [
    "# Converting the entire text to lower case\n",
    "for i in new_columns:\n",
    "  train[i] = train[i].str.lower()\n",
    "  test[i] = test[i].str.lower()"
   ]
  },
  {
   "cell_type": "code",
   "execution_count": null,
   "metadata": {
    "colab": {},
    "colab_type": "code",
    "id": "Zb6t4r20UGOP"
   },
   "outputs": [],
   "source": [
    "# Joining all the columns\n",
    "train_headlines = []\n",
    "test_headlines = []\n",
    "\n",
    "for row in range(0, train.shape[0]):\n",
    "  train_headlines.append(' '.join(str(x) for x in train.iloc[row, 0:25]))\n",
    "\n",
    "for row in range(0, test.shape[0]):\n",
    "  test_headlines.append(' '.join(str(x) for x in test.iloc[row, 0:25]))"
   ]
  },
  {
   "cell_type": "code",
   "execution_count": null,
   "metadata": {
    "colab": {
     "base_uri": "https://localhost:8080/",
     "height": 54
    },
    "colab_type": "code",
    "id": "A-mlVdUdVUHu",
    "outputId": "f8cfbb91-ac4e-4cf3-9e8a-eb33e9721dc5"
   },
   "outputs": [],
   "source": [
    "train_headlines[0]"
   ]
  },
  {
   "cell_type": "code",
   "execution_count": null,
   "metadata": {
    "colab": {
     "base_uri": "https://localhost:8080/",
     "height": 54
    },
    "colab_type": "code",
    "id": "3Dcfd18qVlSO",
    "outputId": "7d3f83d5-dbc3-4b05-c35e-beff886d8a94"
   },
   "outputs": [],
   "source": [
    "test_headlines[0]"
   ]
  },
  {
   "cell_type": "code",
   "execution_count": null,
   "metadata": {
    "colab": {},
    "colab_type": "code",
    "id": "Wp4tgCR1V-Bo"
   },
   "outputs": [],
   "source": [
    "# Creating corpus of train dataset\n",
    "ps = PorterStemmer()\n",
    "train_corpus = []\n",
    "\n",
    "for i in range(0, len(train_headlines)):\n",
    "  \n",
    "  # Tokenizing the news-title by words\n",
    "  words = train_headlines[i].split()\n",
    "\n",
    "  # Removing the stopwords\n",
    "  words = [word for word in words if word not in set(stopwords.words('english'))]\n",
    "\n",
    "  # Stemming the words\n",
    "  words = [ps.stem(word) for word in words]\n",
    "\n",
    "  # Joining the stemmed words\n",
    "  headline = ' '.join(words)\n",
    "\n",
    "  # Building a corpus of news-title\n",
    "  train_corpus.append(headline)"
   ]
  },
  {
   "cell_type": "code",
   "execution_count": null,
   "metadata": {
    "colab": {},
    "colab_type": "code",
    "id": "mS94s0zsYhkv"
   },
   "outputs": [],
   "source": [
    "# Creating corpus of test dataset\n",
    "test_corpus = []\n",
    "\n",
    "for i in range(0, len(test_headlines)):\n",
    "  \n",
    "  # Tokenizing the news-title by words\n",
    "  words = test_headlines[i].split()\n",
    "\n",
    "  # Removing the stopwords\n",
    "  words = [word for word in words if word not in set(stopwords.words('english'))]\n",
    "\n",
    "  # Stemming the words\n",
    "  words = [ps.stem(word) for word in words]\n",
    "\n",
    "  # Joining the stemmed words\n",
    "  headline = ' '.join(words)\n",
    "\n",
    "  # Building a corpus of news-title\n",
    "  test_corpus.append(headline)"
   ]
  },
  {
   "cell_type": "code",
   "execution_count": null,
   "metadata": {
    "colab": {
     "base_uri": "https://localhost:8080/",
     "height": 214
    },
    "colab_type": "code",
    "id": "V-yWTBMHZLF3",
    "outputId": "06f028c6-c894-4e29-f68b-1aa0dc218586"
   },
   "outputs": [],
   "source": [
    "train_corpus[0:10]"
   ]
  },
  {
   "cell_type": "code",
   "execution_count": null,
   "metadata": {
    "colab": {
     "base_uri": "https://localhost:8080/",
     "height": 214
    },
    "colab_type": "code",
    "id": "TAuiyeUjZhZ8",
    "outputId": "86f0e836-8ea2-4d4a-ff02-3e55ef968564"
   },
   "outputs": [],
   "source": [
    "test_corpus[0:10]"
   ]
  },
  {
   "cell_type": "code",
   "execution_count": null,
   "metadata": {
    "colab": {},
    "colab_type": "code",
    "id": "Tl0rHTTpawoP"
   },
   "outputs": [],
   "source": [
    "down_words = []\n",
    "for i in list(y_train[y_train==0].index):\n",
    "  down_words.append(train_corpus[i])\n",
    "\n",
    "up_words = []\n",
    "for i in list(y_train[y_train==1].index):\n",
    "  up_words.append(train_corpus[i])"
   ]
  },
  {
   "cell_type": "code",
   "execution_count": null,
   "metadata": {
    "colab": {
     "base_uri": "https://localhost:8080/",
     "height": 418
    },
    "colab_type": "code",
    "id": "Mnsg4zYnajog",
    "outputId": "0207dbdc-a48c-415f-9832-2d39bc80eb04"
   },
   "outputs": [],
   "source": [
    "# Creating wordcloud for down_words\n",
    "from wordcloud import WordCloud\n",
    "wordcloud1 = WordCloud(background_color='white', width=3000, height=2500).generate(down_words[1])\n",
    "plt.figure(figsize=(8,8))\n",
    "plt.imshow(wordcloud1)\n",
    "plt.axis('off')\n",
    "plt.title(\"Words which indicate a fall in DJIA \")\n",
    "plt.show()"
   ]
  },
  {
   "cell_type": "code",
   "execution_count": null,
   "metadata": {
    "colab": {
     "base_uri": "https://localhost:8080/",
     "height": 418
    },
    "colab_type": "code",
    "id": "65u890APwhzr",
    "outputId": "5d1442ae-0a27-49af-9284-0c59dcfd719f"
   },
   "outputs": [],
   "source": [
    "# Creating wordcloud for up_words\n",
    "wordcloud2 = WordCloud(background_color='white', width=3000, height=2500).generate(up_words[5])\n",
    "plt.figure(figsize=(8,8))\n",
    "plt.imshow(wordcloud2)\n",
    "plt.axis('off')\n",
    "plt.title(\"Words which indicate a rise in DJIA \")\n",
    "plt.show()"
   ]
  },
  {
   "cell_type": "code",
   "execution_count": null,
   "metadata": {
    "colab": {},
    "colab_type": "code",
    "id": "tUitCSbEZzS3"
   },
   "outputs": [],
   "source": [
    "# Creating the Bag of Words model\n",
    "from sklearn.feature_extraction.text import CountVectorizer\n",
    "cv = CountVectorizer(max_features=10000, ngram_range=(2,2))\n",
    "X_train = cv.fit_transform(train_corpus).toarray()"
   ]
  },
  {
   "cell_type": "code",
   "execution_count": null,
   "metadata": {
    "colab": {},
    "colab_type": "code",
    "id": "Jcv69nnllDYH"
   },
   "outputs": [],
   "source": [
    "X_test = cv.transform(test_corpus).toarray()"
   ]
  },
  {
   "cell_type": "markdown",
   "metadata": {
    "colab_type": "text",
    "id": "p3s5bBHAfmpe"
   },
   "source": [
    "# **Model Building**"
   ]
  },
  {
   "cell_type": "markdown",
   "metadata": {
    "colab_type": "text",
    "id": "tzTm9A6zfpgs"
   },
   "source": [
    "## *Logistic Regression*"
   ]
  },
  {
   "cell_type": "code",
   "execution_count": null,
   "metadata": {
    "colab": {
     "base_uri": "https://localhost:8080/",
     "height": 105
    },
    "colab_type": "code",
    "id": "bz-1XUZYf-1H",
    "outputId": "a2d139d7-da07-42b6-a9f1-2b63432d4a16"
   },
   "outputs": [],
   "source": [
    "from sklearn.linear_model import LogisticRegression\n",
    "lr_classifier = LogisticRegression()\n",
    "lr_classifier.fit(X_train, y_train)"
   ]
  },
  {
   "cell_type": "code",
   "execution_count": null,
   "metadata": {
    "colab": {},
    "colab_type": "code",
    "id": "VZEDC_xEgPBP"
   },
   "outputs": [],
   "source": [
    "lr_y_pred = lr_classifier.predict(X_test)"
   ]
  },
  {
   "cell_type": "code",
   "execution_count": null,
   "metadata": {
    "colab": {
     "base_uri": "https://localhost:8080/",
     "height": 87
    },
    "colab_type": "code",
    "id": "z7rIrq2xgPmD",
    "outputId": "483ace4d-4b4e-418b-e43b-352d384d95fe"
   },
   "outputs": [],
   "source": [
    "# Accuracy, Precision and Recall\n",
    "from sklearn.metrics import accuracy_score, precision_score, recall_score\n",
    "score1 = accuracy_score(y_test, lr_y_pred)\n",
    "score2 = precision_score(y_test, lr_y_pred)\n",
    "score3 = recall_score(y_test, lr_y_pred)\n",
    "print(\"---- Scores ----\")\n",
    "print(\"Accuracy score is: {}%\".format(round(score1*100,2)))\n",
    "print(\"Precision score is: {}\".format(round(score2,2)))\n",
    "print(\"Recall score is: {}\".format(round(score3,2)))"
   ]
  },
  {
   "cell_type": "code",
   "execution_count": null,
   "metadata": {
    "colab": {},
    "colab_type": "code",
    "id": "l8r6DUJsgPhv"
   },
   "outputs": [],
   "source": [
    "# Making the Confusion Matrix\n",
    "from sklearn.metrics import confusion_matrix\n",
    "lr_cm = confusion_matrix(y_test, lr_y_pred)"
   ]
  },
  {
   "cell_type": "code",
   "execution_count": null,
   "metadata": {
    "colab": {
     "base_uri": "https://localhost:8080/",
     "height": 52
    },
    "colab_type": "code",
    "id": "s8zW0elGgwka",
    "outputId": "8153dc52-84b5-4676-9433-9169caf1167c"
   },
   "outputs": [],
   "source": [
    "lr_cm"
   ]
  },
  {
   "cell_type": "code",
   "execution_count": null,
   "metadata": {
    "colab": {
     "base_uri": "https://localhost:8080/",
     "height": 457
    },
    "colab_type": "code",
    "id": "WMghDU4rgwh_",
    "outputId": "8bffad57-de26-42c5-8208-faf3f8e9f83e"
   },
   "outputs": [],
   "source": [
    "# Plotting the confusion matrix\n",
    "plt.figure(figsize=(10,7))\n",
    "sns.heatmap(data=lr_cm, annot=True, cmap=\"Blues\", xticklabels=['Down', 'Up'], yticklabels=['Down', 'Up'])\n",
    "plt.xlabel('Predicted values')\n",
    "plt.ylabel('Actual values')\n",
    "plt.title('Confusion Matrix for Logistic Regression Algorithm')\n",
    "plt.show()"
   ]
  },
  {
   "cell_type": "markdown",
   "metadata": {
    "colab_type": "text",
    "id": "vVCt3U33fpYf"
   },
   "source": [
    "## *Random Forest Classifier*"
   ]
  },
  {
   "cell_type": "code",
   "execution_count": null,
   "metadata": {
    "colab": {
     "base_uri": "https://localhost:8080/",
     "height": 158
    },
    "colab_type": "code",
    "id": "nYr_nKLAhJLI",
    "outputId": "851cf507-5d02-4599-ab9a-fc5e284df7b1"
   },
   "outputs": [],
   "source": [
    "from sklearn.ensemble import RandomForestClassifier\n",
    "rf_classifier = RandomForestClassifier(n_estimators=100, criterion='entropy')\n",
    "rf_classifier.fit(X_train, y_train)"
   ]
  },
  {
   "cell_type": "code",
   "execution_count": null,
   "metadata": {
    "colab": {},
    "colab_type": "code",
    "id": "L-Bm0PDJhJG_"
   },
   "outputs": [],
   "source": [
    "rf_y_pred = rf_classifier.predict(X_test)"
   ]
  },
  {
   "cell_type": "code",
   "execution_count": null,
   "metadata": {
    "colab": {
     "base_uri": "https://localhost:8080/",
     "height": 87
    },
    "colab_type": "code",
    "id": "cGjmgNxLhI0_",
    "outputId": "b9ea2f0b-a64c-41c7-a635-656f218bc20d"
   },
   "outputs": [],
   "source": [
    "# Accuracy, Precision and Recall\n",
    "score1 = accuracy_score(y_test, rf_y_pred)\n",
    "score2 = precision_score(y_test, rf_y_pred)\n",
    "score3 = recall_score(y_test, rf_y_pred)\n",
    "print(\"---- Scores ----\")\n",
    "print(\"Accuracy score is: {}%\".format(round(score1*100,2)))\n",
    "print(\"Precision score is: {}\".format(round(score2,2)))\n",
    "print(\"Recall score is: {}\".format(round(score3,2)))"
   ]
  },
  {
   "cell_type": "code",
   "execution_count": null,
   "metadata": {
    "colab": {},
    "colab_type": "code",
    "id": "IsCxzdE1ysHg"
   },
   "outputs": [],
   "source": [
    "# Making the Confusion Matrix\n",
    "rf_cm = confusion_matrix(y_test, rf_y_pred)"
   ]
  },
  {
   "cell_type": "code",
   "execution_count": null,
   "metadata": {
    "colab": {
     "base_uri": "https://localhost:8080/",
     "height": 52
    },
    "colab_type": "code",
    "id": "3XyLYJ9XyvkP",
    "outputId": "4b4a5f18-d388-45b2-a5fc-403e52bd27ff"
   },
   "outputs": [],
   "source": [
    "rf_cm"
   ]
  },
  {
   "cell_type": "code",
   "execution_count": null,
   "metadata": {
    "colab": {
     "base_uri": "https://localhost:8080/",
     "height": 457
    },
    "colab_type": "code",
    "id": "w_Q6THX-y0-_",
    "outputId": "8b3a8fad-8c50-422e-afa0-b90409421e91"
   },
   "outputs": [],
   "source": [
    "# Plotting the confusion matrix\n",
    "plt.figure(figsize=(10,7))\n",
    "sns.heatmap(data=rf_cm, annot=True, cmap=\"Blues\", xticklabels=['Down', 'Up'], yticklabels=['Down', 'Up'])\n",
    "plt.xlabel('Predicted values')\n",
    "plt.ylabel('Actual values')\n",
    "plt.title('Confusion Matrix for Random Forest Algorithm')\n",
    "plt.show()"
   ]
  },
  {
   "cell_type": "markdown",
   "metadata": {
    "colab_type": "text",
    "id": "dnqOScUHf6Dg"
   },
   "source": [
    "## *Multinomial Naive Bayes*"
   ]
  },
  {
   "cell_type": "code",
   "execution_count": null,
   "metadata": {
    "colab": {
     "base_uri": "https://localhost:8080/",
     "height": 34
    },
    "colab_type": "code",
    "id": "tVRPeDb6fmN-",
    "outputId": "f7ff691e-a167-4a4b-8651-2e71bc44466a"
   },
   "outputs": [],
   "source": [
    "from sklearn.naive_bayes import MultinomialNB\n",
    "nb_classifier = MultinomialNB()\n",
    "nb_classifier.fit(X_train, y_train)"
   ]
  },
  {
   "cell_type": "code",
   "execution_count": null,
   "metadata": {
    "colab": {},
    "colab_type": "code",
    "id": "mWjgDBq8fdOb"
   },
   "outputs": [],
   "source": [
    "# Predicting the Test set results\n",
    "nb_y_pred = nb_classifier.predict(X_test)"
   ]
  },
  {
   "cell_type": "code",
   "execution_count": null,
   "metadata": {
    "colab": {
     "base_uri": "https://localhost:8080/",
     "height": 87
    },
    "colab_type": "code",
    "id": "FDbl0TWXh-i8",
    "outputId": "df75f696-693c-4cac-9a2f-4b7715f8fc04"
   },
   "outputs": [],
   "source": [
    "# Accuracy, Precision and Recall\n",
    "score1 = accuracy_score(y_test, nb_y_pred)\n",
    "score2 = precision_score(y_test, nb_y_pred)\n",
    "score3 = recall_score(y_test, nb_y_pred)\n",
    "print(\"---- Scores ----\")\n",
    "print(\"Accuracy score is: {}%\".format(round(score1*100,2)))\n",
    "print(\"Precision score is: {}\".format(round(score2,2)))\n",
    "print(\"Recall score is: {}\".format(round(score3,2)))"
   ]
  },
  {
   "cell_type": "code",
   "execution_count": null,
   "metadata": {
    "colab": {},
    "colab_type": "code",
    "id": "JnopGQlyy-UR"
   },
   "outputs": [],
   "source": [
    "# Making the Confusion Matrix\n",
    "nb_cm = confusion_matrix(y_test, nb_y_pred)"
   ]
  },
  {
   "cell_type": "code",
   "execution_count": null,
   "metadata": {
    "colab": {
     "base_uri": "https://localhost:8080/",
     "height": 52
    },
    "colab_type": "code",
    "id": "MGOugTYqzAZf",
    "outputId": "7b546b10-1321-4738-edaa-0d1c10f2ca79"
   },
   "outputs": [],
   "source": [
    "nb_cm"
   ]
  },
  {
   "cell_type": "code",
   "execution_count": null,
   "metadata": {
    "colab": {
     "base_uri": "https://localhost:8080/",
     "height": 457
    },
    "colab_type": "code",
    "id": "UY-PVvYUzBXX",
    "outputId": "401a8e8b-9a41-4345-b01e-96f883c2c91a"
   },
   "outputs": [],
   "source": [
    "# Plotting the confusion matrix\n",
    "plt.figure(figsize=(10,7))\n",
    "sns.heatmap(data=nb_cm, annot=True, cmap=\"Blues\", xticklabels=['Down', 'Up'], yticklabels=['Down', 'Up'])\n",
    "plt.xlabel('Predicted values')\n",
    "plt.ylabel('Actual values')\n",
    "plt.title('Confusion Matrix for Multinomial Naive Bayes Algorithm')\n",
    "plt.show()"
   ]
  },
  {
   "cell_type": "markdown",
   "metadata": {
    "colab_type": "text",
    "id": "p7wwir-60mqo"
   },
   "source": [
    "# **Predictions**"
   ]
  },
  {
   "cell_type": "code",
   "execution_count": null,
   "metadata": {
    "colab": {},
    "colab_type": "code",
    "id": "X1CHiUyg0pSA"
   },
   "outputs": [],
   "source": [
    "import re\n",
    "\n",
    "def stock_prediction(sample_news):\n",
    "  sample_news = re.sub(pattern='[^a-zA-Z]',repl=' ', string=sample_news)\n",
    "  sample_news = sample_news.lower()\n",
    "  sample_news_words = sample_news.split()\n",
    "  sample_news_words = [word for word in sample_news_words if not word in set(stopwords.words('english'))]\n",
    "  ps = PorterStemmer()\n",
    "  final_news = [ps.stem(word) for word in sample_news_words]\n",
    "  final_news = ' '.join(final_news)\n",
    "\n",
    "  temp = cv.transform([final_news]).toarray()\n",
    "  return lr_classifier.predict(temp)"
   ]
  },
  {
   "cell_type": "code",
   "execution_count": null,
   "metadata": {
    "colab": {},
    "colab_type": "code",
    "id": "1jZdYuQx1Nlv"
   },
   "outputs": [],
   "source": [
    "# For generating random integer\n",
    "from random import randint"
   ]
  },
  {
   "cell_type": "code",
   "execution_count": null,
   "metadata": {
    "colab": {},
    "colab_type": "code",
    "id": "AuuxZK222fII"
   },
   "outputs": [],
   "source": [
    "sample_test = df_copy[df_copy['Date'] > '20141231']"
   ]
  },
  {
   "cell_type": "code",
   "execution_count": null,
   "metadata": {
    "colab": {},
    "colab_type": "code",
    "id": "m0jRGmhG2lgm"
   },
   "outputs": [],
   "source": [
    "sample_test.reset_index(inplace=True)\n",
    "sample_test = sample_test['Top1']"
   ]
  },
  {
   "cell_type": "code",
   "execution_count": null,
   "metadata": {
    "colab": {
     "base_uri": "https://localhost:8080/",
     "height": 52
    },
    "colab_type": "code",
    "id": "ni5XoK241M5s",
    "outputId": "e3f91447-d2fe-4fdc-94f3-a56d2f445a90"
   },
   "outputs": [],
   "source": [
    "# Predicting values\n",
    "row = randint(0,sample_test.shape[0]-1)\n",
    "sample_news = sample_test[row]\n",
    "\n",
    "print('News: {}'.format(sample_news))\n",
    "if stock_prediction(sample_news):\n",
    "  print('Prediction: The stock price will remain the same or will go down.')\n",
    "else:\n",
    "  print('Prediction: The stock price will go up!')"
   ]
  },
  {
   "cell_type": "code",
   "execution_count": null,
   "metadata": {
    "colab": {
     "base_uri": "https://localhost:8080/",
     "height": 52
    },
    "colab_type": "code",
    "id": "WMJFAtG52K7P",
    "outputId": "16d3d8e7-86f3-43d4-c6c8-f391881f523a"
   },
   "outputs": [],
   "source": [
    "# Predicting values\n",
    "row = randint(0,sample_test.shape[0]-1)\n",
    "sample_news = sample_test[row]\n",
    "\n",
    "print('News: {}'.format(sample_news))\n",
    "if stock_prediction(sample_news):\n",
    "  print('Prediction: The stock price will remain the same or will go down.')\n",
    "else:\n",
    "  print('Prediction: The stock price will go up!')"
   ]
  },
  {
   "cell_type": "code",
   "execution_count": null,
   "metadata": {
    "colab": {
     "base_uri": "https://localhost:8080/",
     "height": 52
    },
    "colab_type": "code",
    "id": "pNPZ_VXB3PIk",
    "outputId": "0b2d4906-2d6a-4312-e539-47cf70fc3bcb"
   },
   "outputs": [],
   "source": [
    "# Predicting values\n",
    "row = randint(0,sample_test.shape[0]-1)\n",
    "sample_news = sample_test[row]\n",
    "\n",
    "print('News: {}'.format(sample_news))\n",
    "if stock_prediction(sample_news):\n",
    "  print('Prediction: The stock price will remain the same or will go down.')\n",
    "else:\n",
    "  print('Prediction: The stock price will go up!')"
   ]
  },
  {
   "cell_type": "code",
   "execution_count": null,
   "metadata": {
    "colab": {
     "base_uri": "https://localhost:8080/",
     "height": 52
    },
    "colab_type": "code",
    "id": "r2dzoNTp3h63",
    "outputId": "dc92822a-933e-4330-bdd8-ab9a842f91ce"
   },
   "outputs": [],
   "source": [
    "# Predicting values\n",
    "row = randint(0,sample_test.shape[0]-1)\n",
    "sample_news = sample_test[row]\n",
    "\n",
    "print('News: {}'.format(sample_news))\n",
    "if stock_prediction(sample_news):\n",
    "  print('Prediction: The stock price will remain the same or will go down.')\n",
    "else:\n",
    "  print('Prediction: The stock price will go up!')"
   ]
  }
 ],
 "metadata": {
  "colab": {
   "collapsed_sections": [],
   "name": "Stock Sentiment Analysis using News Headlines.ipynb",
   "provenance": []
  },
  "kernelspec": {
   "display_name": "Python 3",
   "language": "python",
   "name": "python3"
  },
  "language_info": {
   "codemirror_mode": {
    "name": "ipython",
    "version": 3
   },
   "file_extension": ".py",
   "mimetype": "text/x-python",
   "name": "python",
   "nbconvert_exporter": "python",
   "pygments_lexer": "ipython3",
   "version": "3.11.5"
  }
 },
 "nbformat": 4,
 "nbformat_minor": 1
}
